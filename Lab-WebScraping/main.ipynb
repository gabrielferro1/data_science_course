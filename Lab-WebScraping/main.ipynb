{
 "cells": [
  {
   "cell_type": "markdown",
   "id": "90905c7c",
   "metadata": {},
   "source": [
    "# <font color='blue'>Data Science Academy</font>\n",
    "# <font color='blue'>Análise de Dados com Linguagem Python</font>"
   ]
  },
  {
   "cell_type": "markdown",
   "id": "d0f0a231",
   "metadata": {},
   "source": [
    "## Lab - Web Scraping\n",
    "\n",
    "Para dúvidas sobre tags HTML e CSS consulte o material de referência na seção Bibliografia, Referências e Links Úteis ao final do capítulo."
   ]
  },
  {
   "cell_type": "markdown",
   "id": "cd1da8db",
   "metadata": {},
   "source": [
    "### 1 - Extraindo Dados de Páginas Web"
   ]
  },
  {
   "cell_type": "code",
   "execution_count": 3,
   "id": "3e686dc0",
   "metadata": {},
   "outputs": [],
   "source": [
    "# Imports\n",
    "# https://pypi.org/project/beautifulsoup4/\n",
    "from bs4 import BeautifulSoup\n",
    "from bs4 import SoupStrainer"
   ]
  },
  {
   "cell_type": "code",
   "execution_count": 4,
   "id": "a833cef5",
   "metadata": {},
   "outputs": [],
   "source": [
    "html_doc = \"\"\"<html><head><title>Os Agentes Especiais</title></head>\n",
    "<body>\n",
    "<p class=\"title\"><b>História dos Agentes Especiais</b></p>\n",
    "<p class=\"historia\">Era uma vez três agentes especiais; e seus nomes eram\n",
    "<a href=\"http://www.exemplo.com/james\" class=\"agente\" id=\"link1\">James</a>,\n",
    "<a href=\"http://www.exemplo.com/julio\" class=\"agente\" id=\"link2\">Julio</a> e\n",
    "<a href=\"http://www.exemplo.com/jucimar\" class=\"agente\" id=\"link3\">Jucimar</a>;\n",
    "e eles viviam em Londres, na Inglaterra.</p>\n",
    "<p class=\"historia\">...</p>\n",
    "<h1>Agentes Especiais</h1>\n",
    "<ul>\n",
    " <li data-id=\"10784\">James Bond, 007: Agente especial para atividades internacionais.</li>\n",
    " <li data-id=\"97865\">Julio Verner, 006: Agente especial contra o. terrorismo.</li>\n",
    " <li data-id=\"45732\">Jucimar Moraes, 005: Agente especial para proteger a rainha.</li>\n",
    "</ul>\n",
    "</body>\n",
    "</html>\"\"\""
   ]
  },
  {
   "cell_type": "code",
   "execution_count": 5,
   "id": "5e9166b0",
   "metadata": {},
   "outputs": [],
   "source": [
    "# Extraindo a tag a \n",
    "tagsA = SoupStrainer(\"a\")"
   ]
  },
  {
   "cell_type": "code",
   "execution_count": 6,
   "id": "770e7e7c",
   "metadata": {},
   "outputs": [],
   "source": [
    "# Convertendo o resultado anterioe em doc html do tipo lxml\n",
    "soupA = BeautifulSoup(html_doc, 'html.parser', parse_only=tagsA)\n"
   ]
  },
  {
   "cell_type": "code",
   "execution_count": 7,
   "id": "fd7799ed",
   "metadata": {},
   "outputs": [
    {
     "name": "stdout",
     "output_type": "stream",
     "text": [
      "<class 'bs4.BeautifulSoup'>\n"
     ]
    }
   ],
   "source": [
    "print(type(soupA))"
   ]
  },
  {
   "cell_type": "code",
   "execution_count": 8,
   "id": "11bb993b",
   "metadata": {},
   "outputs": [
    {
     "name": "stdout",
     "output_type": "stream",
     "text": [
      "<a class=\"agente\" href=\"http://www.exemplo.com/james\" id=\"link1\">James</a><a class=\"agente\" href=\"http://www.exemplo.com/julio\" id=\"link2\">Julio</a><a class=\"agente\" href=\"http://www.exemplo.com/jucimar\" id=\"link3\">Jucimar</a>\n"
     ]
    }
   ],
   "source": [
    "print(soupA)"
   ]
  },
  {
   "cell_type": "code",
   "execution_count": 9,
   "id": "665ab104",
   "metadata": {},
   "outputs": [
    {
     "name": "stdout",
     "output_type": "stream",
     "text": [
      "<a class=\"agente\" href=\"http://www.exemplo.com/james\" id=\"link1\">\n",
      " James\n",
      "</a>\n",
      "<a class=\"agente\" href=\"http://www.exemplo.com/julio\" id=\"link2\">\n",
      " Julio\n",
      "</a>\n",
      "<a class=\"agente\" href=\"http://www.exemplo.com/jucimar\" id=\"link3\">\n",
      " Jucimar\n",
      "</a>\n",
      "\n"
     ]
    }
   ],
   "source": [
    "# Formatando o resultado\n",
    "print(soupA.prettify())"
   ]
  },
  {
   "cell_type": "code",
   "execution_count": 10,
   "id": "1c257995",
   "metadata": {},
   "outputs": [
    {
     "name": "stdout",
     "output_type": "stream",
     "text": [
      "True\n"
     ]
    }
   ],
   "source": [
    "# O objeto soupA tem atributo classe?\n",
    "print(soupA.a.has_attr('class'))"
   ]
  },
  {
   "cell_type": "code",
   "execution_count": 11,
   "id": "54e3b417",
   "metadata": {},
   "outputs": [
    {
     "name": "stdout",
     "output_type": "stream",
     "text": [
      "False\n"
     ]
    }
   ],
   "source": [
    "# O objeto soupA tem atributo name?\n",
    "print(soupA.a.has_attr('name'))"
   ]
  },
  {
   "cell_type": "markdown",
   "id": "f9d7b0c3",
   "metadata": {},
   "source": [
    "### 2 - Como Organizar e Analisar Dados Extraídos da Web"
   ]
  },
  {
   "cell_type": "code",
   "execution_count": 12,
   "id": "8a4da10e",
   "metadata": {},
   "outputs": [
    {
     "name": "stdout",
     "output_type": "stream",
     "text": [
      "<a class=\"agente\" href=\"http://www.exemplo.com/james\" id=\"link1\">James</a>\n"
     ]
    }
   ],
   "source": [
    "print(soupA.find(\"a\"))"
   ]
  },
  {
   "cell_type": "code",
   "execution_count": 13,
   "id": "53cb461e",
   "metadata": {},
   "outputs": [
    {
     "name": "stdout",
     "output_type": "stream",
     "text": [
      "[<a class=\"agente\" href=\"http://www.exemplo.com/james\" id=\"link1\">James</a>, <a class=\"agente\" href=\"http://www.exemplo.com/julio\" id=\"link2\">Julio</a>, <a class=\"agente\" href=\"http://www.exemplo.com/jucimar\" id=\"link3\">Jucimar</a>]\n"
     ]
    }
   ],
   "source": [
    "print(soupA.find_all(\"a\")) "
   ]
  },
  {
   "cell_type": "code",
   "execution_count": 14,
   "id": "8ba9c1ec",
   "metadata": {},
   "outputs": [
    {
     "name": "stdout",
     "output_type": "stream",
     "text": [
      "<a class=\"agente\" href=\"http://www.exemplo.com/james\" id=\"link1\">James</a>\n"
     ]
    }
   ],
   "source": [
    "print(soupA.find(\"a\", attrs = {'class':'agente'}))"
   ]
  },
  {
   "cell_type": "code",
   "execution_count": 15,
   "id": "0211140e",
   "metadata": {},
   "outputs": [
    {
     "name": "stdout",
     "output_type": "stream",
     "text": [
      "<a class=\"agente\" href=\"http://www.exemplo.com/julio\" id=\"link2\">Julio</a>\n"
     ]
    },
    {
     "name": "stderr",
     "output_type": "stream",
     "text": [
      "C:\\Users\\gabri\\AppData\\Local\\Temp\\ipykernel_35748\\911147462.py:1: DeprecationWarning: The 'text' argument to find()-type methods is deprecated. Use 'string' instead.\n",
      "  print(soupA.find(\"a\", attrs = {'class':'agente'}, text = \"Julio\"))\n"
     ]
    }
   ],
   "source": [
    "print(soupA.find(\"a\", attrs = {'class':'agente'}, text = \"Julio\"))"
   ]
  },
  {
   "cell_type": "code",
   "execution_count": 16,
   "id": "92b40c34",
   "metadata": {},
   "outputs": [
    {
     "name": "stdout",
     "output_type": "stream",
     "text": [
      "<a class=\"agente\" href=\"http://www.exemplo.com/jucimar\" id=\"link3\">Jucimar</a>\n"
     ]
    }
   ],
   "source": [
    "print(soupA.find(\"a\", attrs = {'id':'link3'}))"
   ]
  },
  {
   "cell_type": "code",
   "execution_count": 17,
   "id": "d794bed7",
   "metadata": {},
   "outputs": [
    {
     "name": "stdout",
     "output_type": "stream",
     "text": [
      "<a class=\"agente\" href=\"http://www.exemplo.com/julio\" id=\"link2\">Julio</a>\n"
     ]
    }
   ],
   "source": [
    "print(soupA.find('a', id = \"link2\"))"
   ]
  },
  {
   "cell_type": "code",
   "execution_count": 18,
   "id": "9d883c06",
   "metadata": {},
   "outputs": [
    {
     "name": "stdout",
     "output_type": "stream",
     "text": [
      "[<a class=\"agente\" href=\"http://www.exemplo.com/james\" id=\"link1\">James</a>, <a class=\"agente\" href=\"http://www.exemplo.com/julio\" id=\"link2\">Julio</a>]\n"
     ]
    }
   ],
   "source": [
    "print(soupA.find_all(\"a\", limit = 2))"
   ]
  },
  {
   "cell_type": "markdown",
   "id": "30758425",
   "metadata": {},
   "source": [
    "### 3 - Usando Expressão Regular Para Filtrar os Resultados"
   ]
  },
  {
   "cell_type": "code",
   "execution_count": 19,
   "id": "b0bec18d",
   "metadata": {},
   "outputs": [],
   "source": [
    "import re"
   ]
  },
  {
   "cell_type": "code",
   "execution_count": 20,
   "id": "6cb4dbd4",
   "metadata": {},
   "outputs": [
    {
     "name": "stdout",
     "output_type": "stream",
     "text": [
      "<a class=\"agente\" href=\"http://www.exemplo.com/julio\" id=\"link2\">Julio</a>\n"
     ]
    },
    {
     "name": "stderr",
     "output_type": "stream",
     "text": [
      "C:\\Users\\gabri\\AppData\\Local\\Temp\\ipykernel_35748\\1835062003.py:1: DeprecationWarning: The 'text' argument to find()-type methods is deprecated. Use 'string' instead.\n",
      "  print(soupA.find(\"a\", text = re.compile(r'lio')))\n"
     ]
    }
   ],
   "source": [
    "print(soupA.find(\"a\", text = re.compile(r'lio')))"
   ]
  },
  {
   "cell_type": "code",
   "execution_count": 21,
   "id": "f358a22c",
   "metadata": {},
   "outputs": [
    {
     "name": "stdout",
     "output_type": "stream",
     "text": [
      "[<a class=\"agente\" href=\"http://www.exemplo.com/jucimar\" id=\"link3\">Jucimar</a>]\n"
     ]
    }
   ],
   "source": [
    "print(soupA.find_all(\"a\", attrs = {'id':re.compile(r'3')}))"
   ]
  },
  {
   "cell_type": "code",
   "execution_count": 22,
   "id": "30a8629a",
   "metadata": {},
   "outputs": [
    {
     "name": "stdout",
     "output_type": "stream",
     "text": [
      "[<a class=\"agente\" href=\"http://www.exemplo.com/james\" id=\"link1\">James</a>, <a class=\"agente\" href=\"http://www.exemplo.com/julio\" id=\"link2\">Julio</a>, <a class=\"agente\" href=\"http://www.exemplo.com/jucimar\" id=\"link3\">Jucimar</a>]\n"
     ]
    }
   ],
   "source": [
    "print(soupA.find_all(re.compile(r'a')))"
   ]
  },
  {
   "cell_type": "code",
   "execution_count": 23,
   "id": "708e3c16",
   "metadata": {},
   "outputs": [],
   "source": [
    "soup = BeautifulSoup(html_doc, 'lxml')"
   ]
  },
  {
   "cell_type": "code",
   "execution_count": 24,
   "id": "93cd8c11",
   "metadata": {},
   "outputs": [
    {
     "name": "stdout",
     "output_type": "stream",
     "text": [
      "<html><head><title>Os Agentes Especiais</title></head>\n",
      "<body>\n",
      "<p class=\"title\"><b>História dos Agentes Especiais</b></p>\n",
      "<p class=\"historia\">Era uma vez três agentes especiais; e seus nomes eram\n",
      "<a class=\"agente\" href=\"http://www.exemplo.com/james\" id=\"link1\">James</a>,\n",
      "<a class=\"agente\" href=\"http://www.exemplo.com/julio\" id=\"link2\">Julio</a> e\n",
      "<a class=\"agente\" href=\"http://www.exemplo.com/jucimar\" id=\"link3\">Jucimar</a>;\n",
      "e eles viviam em Londres, na Inglaterra.</p>\n",
      "<p class=\"historia\">...</p>\n",
      "<h1>Agentes Especiais</h1>\n",
      "<ul>\n",
      "<li data-id=\"10784\">James Bond, 007: Agente especial para atividades internacionais.</li>\n",
      "<li data-id=\"97865\">Julio Verner, 006: Agente especial contra o. terrorismo.</li>\n",
      "<li data-id=\"45732\">Jucimar Moraes, 005: Agente especial para proteger a rainha.</li>\n",
      "</ul>\n",
      "</body>\n",
      "</html>\n"
     ]
    }
   ],
   "source": [
    "print(soup)"
   ]
  },
  {
   "cell_type": "code",
   "execution_count": 25,
   "id": "798fcfdc",
   "metadata": {},
   "outputs": [
    {
     "name": "stdout",
     "output_type": "stream",
     "text": [
      "[<p class=\"historia\">Era uma vez três agentes especiais; e seus nomes eram\n",
      "<a class=\"agente\" href=\"http://www.exemplo.com/james\" id=\"link1\">James</a>,\n",
      "<a class=\"agente\" href=\"http://www.exemplo.com/julio\" id=\"link2\">Julio</a> e\n",
      "<a class=\"agente\" href=\"http://www.exemplo.com/jucimar\" id=\"link3\">Jucimar</a>;\n",
      "e eles viviam em Londres, na Inglaterra.</p>, <p class=\"historia\">...</p>]\n"
     ]
    }
   ],
   "source": [
    "print(soup.find_all(\"p\", \"historia\"))"
   ]
  },
  {
   "cell_type": "code",
   "execution_count": 26,
   "id": "1b748dff",
   "metadata": {},
   "outputs": [
    {
     "name": "stdout",
     "output_type": "stream",
     "text": [
      "[<p class=\"title\"><b>História dos Agentes Especiais</b></p>]\n"
     ]
    }
   ],
   "source": [
    "print(soup.find_all(\"p\", \"title\"))"
   ]
  },
  {
   "cell_type": "code",
   "execution_count": 27,
   "id": "716e03f5",
   "metadata": {},
   "outputs": [
    {
     "name": "stdout",
     "output_type": "stream",
     "text": [
      "[<p class=\"title\"><b>História dos Agentes Especiais</b></p>, <p class=\"historia\">Era uma vez três agentes especiais; e seus nomes eram\n",
      "<a class=\"agente\" href=\"http://www.exemplo.com/james\" id=\"link1\">James</a>,\n",
      "<a class=\"agente\" href=\"http://www.exemplo.com/julio\" id=\"link2\">Julio</a> e\n",
      "<a class=\"agente\" href=\"http://www.exemplo.com/jucimar\" id=\"link3\">Jucimar</a>;\n",
      "e eles viviam em Londres, na Inglaterra.</p>, <p class=\"historia\">...</p>]\n"
     ]
    }
   ],
   "source": [
    "print(soup.find_all(\"p\", attrs = {'class':['title','historia']}))"
   ]
  },
  {
   "cell_type": "code",
   "execution_count": 28,
   "id": "8a5dfc2b",
   "metadata": {},
   "outputs": [
    {
     "name": "stdout",
     "output_type": "stream",
     "text": [
      "[<p class=\"title\"><b>História dos Agentes Especiais</b></p>, <p class=\"historia\">Era uma vez três agentes especiais; e seus nomes eram\n",
      "<a class=\"agente\" href=\"http://www.exemplo.com/james\" id=\"link1\">James</a>,\n",
      "<a class=\"agente\" href=\"http://www.exemplo.com/julio\" id=\"link2\">Julio</a> e\n",
      "<a class=\"agente\" href=\"http://www.exemplo.com/jucimar\" id=\"link3\">Jucimar</a>;\n",
      "e eles viviam em Londres, na Inglaterra.</p>, <p class=\"historia\">...</p>, <li data-id=\"10784\">James Bond, 007: Agente especial para atividades internacionais.</li>, <li data-id=\"97865\">Julio Verner, 006: Agente especial contra o. terrorismo.</li>, <li data-id=\"45732\">Jucimar Moraes, 005: Agente especial para proteger a rainha.</li>]\n"
     ]
    }
   ],
   "source": [
    "print(soup.find_all([\"p\", \"li\"]))"
   ]
  },
  {
   "cell_type": "code",
   "execution_count": 29,
   "id": "80e21d11",
   "metadata": {},
   "outputs": [
    {
     "name": "stdout",
     "output_type": "stream",
     "text": [
      "['James']\n"
     ]
    }
   ],
   "source": [
    "print(soup.find_all(string = 'James'))"
   ]
  },
  {
   "cell_type": "code",
   "execution_count": 30,
   "id": "f036b028",
   "metadata": {},
   "outputs": [
    {
     "name": "stdout",
     "output_type": "stream",
     "text": [
      "['James', 'James Bond, 007: Agente especial para atividades internacionais.']\n"
     ]
    },
    {
     "name": "stderr",
     "output_type": "stream",
     "text": [
      "C:\\Users\\gabri\\AppData\\Local\\Temp\\ipykernel_35748\\3984222931.py:1: DeprecationWarning: The 'text' argument to find()-type methods is deprecated. Use 'string' instead.\n",
      "  print(soup.find_all(text = re.compile(r'Ja')))\n"
     ]
    }
   ],
   "source": [
    "print(soup.find_all(text = re.compile(r'Ja')))"
   ]
  },
  {
   "cell_type": "code",
   "execution_count": 31,
   "id": "cc18e0aa",
   "metadata": {},
   "outputs": [
    {
     "name": "stdout",
     "output_type": "stream",
     "text": [
      "[<a class=\"agente\" href=\"http://www.exemplo.com/jucimar\" id=\"link3\">Jucimar</a>]\n"
     ]
    }
   ],
   "source": [
    "print(soup.find_all(\"a\", string = \"Jucimar\"))"
   ]
  },
  {
   "cell_type": "code",
   "execution_count": 32,
   "id": "5cfaa2d8",
   "metadata": {},
   "outputs": [
    {
     "name": "stdout",
     "output_type": "stream",
     "text": [
      "<li data-id=\"45732\">Jucimar Moraes, 005: Agente especial para proteger a rainha.</li>\n"
     ]
    }
   ],
   "source": [
    "print(soup.ul.find('li', attrs = {'data-id':'45732'}))"
   ]
  },
  {
   "cell_type": "code",
   "execution_count": 33,
   "id": "0972fb40",
   "metadata": {},
   "outputs": [
    {
     "name": "stdout",
     "output_type": "stream",
     "text": [
      "Jucimar Moraes, 005: Agente especial para proteger a rainha.\n"
     ]
    }
   ],
   "source": [
    "print(soup.ul.find('li', attrs = {'data-id':'45732'}).text)"
   ]
  },
  {
   "cell_type": "code",
   "execution_count": 34,
   "id": "593db526",
   "metadata": {},
   "outputs": [
    {
     "name": "stdout",
     "output_type": "stream",
     "text": [
      "<b>História dos Agentes Especiais</b>\n"
     ]
    }
   ],
   "source": [
    "print(soup.p.b)"
   ]
  },
  {
   "cell_type": "code",
   "execution_count": 35,
   "id": "560aee40",
   "metadata": {},
   "outputs": [
    {
     "name": "stdout",
     "output_type": "stream",
     "text": [
      "História dos Agentes Especiais\n"
     ]
    }
   ],
   "source": [
    "print(soup.p.text)"
   ]
  },
  {
   "cell_type": "markdown",
   "id": "9a07049d",
   "metadata": {},
   "source": [
    "### 4 - Busca e Extração de Hierarquia da Página Web"
   ]
  },
  {
   "cell_type": "code",
   "execution_count": null,
   "id": "98547d04",
   "metadata": {},
   "outputs": [],
   "source": []
  }
 ],
 "metadata": {
  "kernelspec": {
   "display_name": "Python 3",
   "language": "python",
   "name": "python3"
  },
  "language_info": {
   "codemirror_mode": {
    "name": "ipython",
    "version": 3
   },
   "file_extension": ".py",
   "mimetype": "text/x-python",
   "name": "python",
   "nbconvert_exporter": "python",
   "pygments_lexer": "ipython3",
   "version": "3.13.9"
  }
 },
 "nbformat": 4,
 "nbformat_minor": 5
}
