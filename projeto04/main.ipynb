{
 "cells": [
  {
   "cell_type": "markdown",
   "id": "8487d97e",
   "metadata": {},
   "source": [
    "# <font color='blue'>Data Science Academy</font>\n",
    "# <font color='blue'>Análise de Dados com Linguagem Python</font>\n",
    "\n",
    "## <font color='blue'>Projeto 4</font>\n",
    "## <font color='blue'>Análise de Dados Para Campanhas de Marketing de Instituições Financeiras</font>"
   ]
  },
  {
   "cell_type": "markdown",
   "id": "8fb50769",
   "metadata": {},
   "source": [
    "![title](imagens/Projeto4.png)"
   ]
  },
  {
   "cell_type": "markdown",
   "id": "e88ecfd6",
   "metadata": {},
   "source": [
    "## Instalando e Carregando os Pacotes"
   ]
  },
  {
   "cell_type": "code",
   "execution_count": 1,
   "id": "b5f0b2e1",
   "metadata": {},
   "outputs": [],
   "source": [
    "# Imports\n",
    "import pandas as pd\n",
    "import numpy as np\n",
    "import matplotlib.pyplot as plt\n",
    "import sys, os \n",
    "import seaborn as sns\n",
    "import warnings\n",
    "warnings.filterwarnings(\"ignore\")"
   ]
  },
  {
   "cell_type": "code",
   "execution_count": 2,
   "id": "b0574474",
   "metadata": {},
   "outputs": [],
   "source": [
    "# Adicionando caminhos para os modulos\n",
    "sys.path.append(os.path.abspath(os.path.join('modulos')))\n",
    "from estrategia1 import *\n",
    "from estrategia2 import *\n",
    "from estrategia3 import *"
   ]
  },
  {
   "cell_type": "markdown",
   "id": "170e3bb1",
   "metadata": {},
   "source": [
    "## Carregando os Dados"
   ]
  },
  {
   "cell_type": "code",
   "execution_count": 3,
   "id": "e6756b4d",
   "metadata": {},
   "outputs": [],
   "source": [
    "# Carrega o dataset\n",
    "df = pd.read_csv(\"dados/dataset.csv\")"
   ]
  },
  {
   "cell_type": "code",
   "execution_count": 4,
   "id": "40a50c12",
   "metadata": {},
   "outputs": [
    {
     "data": {
      "text/plain": [
       "(45211, 19)"
      ]
     },
     "execution_count": 4,
     "metadata": {},
     "output_type": "execute_result"
    }
   ],
   "source": [
    "# Shape\n",
    "df.shape"
   ]
  },
  {
   "cell_type": "code",
   "execution_count": 5,
   "id": "83df1342",
   "metadata": {},
   "outputs": [
    {
     "data": {
      "text/html": [
       "<div>\n",
       "<style scoped>\n",
       "    .dataframe tbody tr th:only-of-type {\n",
       "        vertical-align: middle;\n",
       "    }\n",
       "\n",
       "    .dataframe tbody tr th {\n",
       "        vertical-align: top;\n",
       "    }\n",
       "\n",
       "    .dataframe thead th {\n",
       "        text-align: right;\n",
       "    }\n",
       "</style>\n",
       "<table border=\"1\" class=\"dataframe\">\n",
       "  <thead>\n",
       "    <tr style=\"text-align: right;\">\n",
       "      <th></th>\n",
       "      <th>customerid</th>\n",
       "      <th>age</th>\n",
       "      <th>salary</th>\n",
       "      <th>balance</th>\n",
       "      <th>marital</th>\n",
       "      <th>jobedu</th>\n",
       "      <th>targeted</th>\n",
       "      <th>default</th>\n",
       "      <th>housing</th>\n",
       "      <th>loan</th>\n",
       "      <th>contact</th>\n",
       "      <th>day</th>\n",
       "      <th>month</th>\n",
       "      <th>duration</th>\n",
       "      <th>campaign</th>\n",
       "      <th>pdays</th>\n",
       "      <th>previous</th>\n",
       "      <th>poutcome</th>\n",
       "      <th>response</th>\n",
       "    </tr>\n",
       "  </thead>\n",
       "  <tbody>\n",
       "    <tr>\n",
       "      <th>0</th>\n",
       "      <td>1</td>\n",
       "      <td>58.0</td>\n",
       "      <td>100000.0</td>\n",
       "      <td>2143</td>\n",
       "      <td>married</td>\n",
       "      <td>management,tertiary</td>\n",
       "      <td>yes</td>\n",
       "      <td>no</td>\n",
       "      <td>yes</td>\n",
       "      <td>no</td>\n",
       "      <td>unknown</td>\n",
       "      <td>5</td>\n",
       "      <td>may, 2017</td>\n",
       "      <td>261 sec</td>\n",
       "      <td>1</td>\n",
       "      <td>-1</td>\n",
       "      <td>0</td>\n",
       "      <td>unknown</td>\n",
       "      <td>no</td>\n",
       "    </tr>\n",
       "    <tr>\n",
       "      <th>1</th>\n",
       "      <td>2</td>\n",
       "      <td>44.0</td>\n",
       "      <td>60000.0</td>\n",
       "      <td>29</td>\n",
       "      <td>single</td>\n",
       "      <td>technician,secondary</td>\n",
       "      <td>yes</td>\n",
       "      <td>no</td>\n",
       "      <td>yes</td>\n",
       "      <td>no</td>\n",
       "      <td>unknown</td>\n",
       "      <td>5</td>\n",
       "      <td>may, 2017</td>\n",
       "      <td>151 sec</td>\n",
       "      <td>1</td>\n",
       "      <td>-1</td>\n",
       "      <td>0</td>\n",
       "      <td>unknown</td>\n",
       "      <td>no</td>\n",
       "    </tr>\n",
       "    <tr>\n",
       "      <th>2</th>\n",
       "      <td>3</td>\n",
       "      <td>33.0</td>\n",
       "      <td>120000.0</td>\n",
       "      <td>2</td>\n",
       "      <td>married</td>\n",
       "      <td>entrepreneur,secondary</td>\n",
       "      <td>yes</td>\n",
       "      <td>no</td>\n",
       "      <td>yes</td>\n",
       "      <td>yes</td>\n",
       "      <td>unknown</td>\n",
       "      <td>5</td>\n",
       "      <td>may, 2017</td>\n",
       "      <td>76 sec</td>\n",
       "      <td>1</td>\n",
       "      <td>-1</td>\n",
       "      <td>0</td>\n",
       "      <td>unknown</td>\n",
       "      <td>no</td>\n",
       "    </tr>\n",
       "    <tr>\n",
       "      <th>3</th>\n",
       "      <td>4</td>\n",
       "      <td>47.0</td>\n",
       "      <td>20000.0</td>\n",
       "      <td>1506</td>\n",
       "      <td>married</td>\n",
       "      <td>blue-collar,unknown</td>\n",
       "      <td>no</td>\n",
       "      <td>no</td>\n",
       "      <td>yes</td>\n",
       "      <td>no</td>\n",
       "      <td>unknown</td>\n",
       "      <td>5</td>\n",
       "      <td>may, 2017</td>\n",
       "      <td>92 sec</td>\n",
       "      <td>1</td>\n",
       "      <td>-1</td>\n",
       "      <td>0</td>\n",
       "      <td>unknown</td>\n",
       "      <td>no</td>\n",
       "    </tr>\n",
       "    <tr>\n",
       "      <th>4</th>\n",
       "      <td>5</td>\n",
       "      <td>33.0</td>\n",
       "      <td>0.0</td>\n",
       "      <td>1</td>\n",
       "      <td>single</td>\n",
       "      <td>unknown,unknown</td>\n",
       "      <td>no</td>\n",
       "      <td>no</td>\n",
       "      <td>no</td>\n",
       "      <td>no</td>\n",
       "      <td>unknown</td>\n",
       "      <td>5</td>\n",
       "      <td>may, 2017</td>\n",
       "      <td>198 sec</td>\n",
       "      <td>1</td>\n",
       "      <td>-1</td>\n",
       "      <td>0</td>\n",
       "      <td>unknown</td>\n",
       "      <td>no</td>\n",
       "    </tr>\n",
       "  </tbody>\n",
       "</table>\n",
       "</div>"
      ],
      "text/plain": [
       "   customerid   age    salary  balance  marital                  jobedu  \\\n",
       "0           1  58.0  100000.0     2143  married     management,tertiary   \n",
       "1           2  44.0   60000.0       29   single    technician,secondary   \n",
       "2           3  33.0  120000.0        2  married  entrepreneur,secondary   \n",
       "3           4  47.0   20000.0     1506  married     blue-collar,unknown   \n",
       "4           5  33.0       0.0        1   single         unknown,unknown   \n",
       "\n",
       "  targeted default housing loan  contact  day      month duration  campaign  \\\n",
       "0      yes      no     yes   no  unknown    5  may, 2017  261 sec         1   \n",
       "1      yes      no     yes   no  unknown    5  may, 2017  151 sec         1   \n",
       "2      yes      no     yes  yes  unknown    5  may, 2017   76 sec         1   \n",
       "3       no      no     yes   no  unknown    5  may, 2017   92 sec         1   \n",
       "4       no      no      no   no  unknown    5  may, 2017  198 sec         1   \n",
       "\n",
       "   pdays  previous poutcome response  \n",
       "0     -1         0  unknown       no  \n",
       "1     -1         0  unknown       no  \n",
       "2     -1         0  unknown       no  \n",
       "3     -1         0  unknown       no  \n",
       "4     -1         0  unknown       no  "
      ]
     },
     "execution_count": 5,
     "metadata": {},
     "output_type": "execute_result"
    }
   ],
   "source": [
    "# Amostra\n",
    "df.head()"
   ]
  },
  {
   "cell_type": "markdown",
   "id": "783fa4f2",
   "metadata": {},
   "source": [
    "## Análise Exploratória"
   ]
  },
  {
   "cell_type": "code",
   "execution_count": 6,
   "id": "da15b093",
   "metadata": {},
   "outputs": [
    {
     "name": "stdout",
     "output_type": "stream",
     "text": [
      "<class 'pandas.core.frame.DataFrame'>\n",
      "RangeIndex: 45211 entries, 0 to 45210\n",
      "Data columns (total 19 columns):\n",
      " #   Column      Non-Null Count  Dtype  \n",
      "---  ------      --------------  -----  \n",
      " 0   customerid  45211 non-null  int64  \n",
      " 1   age         45191 non-null  float64\n",
      " 2   salary      45185 non-null  float64\n",
      " 3   balance     45211 non-null  int64  \n",
      " 4   marital     45211 non-null  object \n",
      " 5   jobedu      45211 non-null  object \n",
      " 6   targeted    45211 non-null  object \n",
      " 7   default     45211 non-null  object \n",
      " 8   housing     45211 non-null  object \n",
      " 9   loan        45211 non-null  object \n",
      " 10  contact     45211 non-null  object \n",
      " 11  day         45211 non-null  int64  \n",
      " 12  month       45161 non-null  object \n",
      " 13  duration    45211 non-null  object \n",
      " 14  campaign    45211 non-null  int64  \n",
      " 15  pdays       45211 non-null  int64  \n",
      " 16  previous    45211 non-null  int64  \n",
      " 17  poutcome    45211 non-null  object \n",
      " 18  response    45181 non-null  object \n",
      "dtypes: float64(2), int64(6), object(11)\n",
      "memory usage: 6.6+ MB\n"
     ]
    }
   ],
   "source": [
    "# Info\n",
    "df.info()"
   ]
  },
  {
   "cell_type": "code",
   "execution_count": 7,
   "id": "53ce2460",
   "metadata": {},
   "outputs": [
    {
     "data": {
      "text/plain": [
       "customerid    False\n",
       "age            True\n",
       "salary         True\n",
       "balance       False\n",
       "marital       False\n",
       "jobedu        False\n",
       "targeted      False\n",
       "default       False\n",
       "housing       False\n",
       "loan          False\n",
       "contact       False\n",
       "day           False\n",
       "month          True\n",
       "duration      False\n",
       "campaign      False\n",
       "pdays         False\n",
       "previous      False\n",
       "poutcome      False\n",
       "response       True\n",
       "dtype: bool"
      ]
     },
     "execution_count": 7,
     "metadata": {},
     "output_type": "execute_result"
    }
   ],
   "source": [
    "# Temos valores nulos? Sim ou Nao?\n",
    "df.isna().any()"
   ]
  },
  {
   "cell_type": "code",
   "execution_count": 8,
   "id": "79382966",
   "metadata": {},
   "outputs": [
    {
     "data": {
      "text/plain": [
       "customerid     0\n",
       "age           20\n",
       "salary        26\n",
       "balance        0\n",
       "marital        0\n",
       "jobedu         0\n",
       "targeted       0\n",
       "default        0\n",
       "housing        0\n",
       "loan           0\n",
       "contact        0\n",
       "day            0\n",
       "month         50\n",
       "duration       0\n",
       "campaign       0\n",
       "pdays          0\n",
       "previous       0\n",
       "poutcome       0\n",
       "response      30\n",
       "dtype: int64"
      ]
     },
     "execution_count": 8,
     "metadata": {},
     "output_type": "execute_result"
    }
   ],
   "source": [
    "# Temos valores nulos? Quantos?\n",
    "df.isna().sum()"
   ]
  },
  {
   "cell_type": "code",
   "execution_count": 9,
   "id": "3b72b51b",
   "metadata": {},
   "outputs": [],
   "source": [
    "# Nao usaremos a coluna ID. Vamos remove-la\n",
    "df.drop(['customerid'], axis = 1, inplace= True)"
   ]
  },
  {
   "cell_type": "code",
   "execution_count": 10,
   "id": "341b2e9d",
   "metadata": {},
   "outputs": [
    {
     "data": {
      "text/plain": [
       "Index(['age', 'salary', 'balance', 'marital', 'jobedu', 'targeted', 'default',\n",
       "       'housing', 'loan', 'contact', 'day', 'month', 'duration', 'campaign',\n",
       "       'pdays', 'previous', 'poutcome', 'response'],\n",
       "      dtype='object')"
      ]
     },
     "execution_count": 10,
     "metadata": {},
     "output_type": "execute_result"
    }
   ],
   "source": [
    "# Colunas\n",
    "df.columns"
   ]
  },
  {
   "cell_type": "markdown",
   "id": "74f40ea9",
   "metadata": {},
   "source": [
    "> Exercício 1: A coluna \"jobedu\" parece ter duas informações. Vamos separar em duas colunas."
   ]
  },
  {
   "cell_type": "code",
   "execution_count": null,
   "id": "7469d503",
   "metadata": {},
   "outputs": [],
   "source": [
    "# Fazemos o split da coluna jobedu e criamos a coluna job com o primeiro elemento antes da virgula\n",
    "#df[['job', 'education']] = df['jobedu'].str.split(',', n= 1, expand= True) outra forma de separar\n",
    "df['job'] = df['jobedu'].apply(lambda x:x.split(\",\")[0])"
   ]
  },
  {
   "cell_type": "code",
   "execution_count": 18,
   "id": "a2a14c54",
   "metadata": {},
   "outputs": [
    {
     "data": {
      "text/html": [
       "<div>\n",
       "<style scoped>\n",
       "    .dataframe tbody tr th:only-of-type {\n",
       "        vertical-align: middle;\n",
       "    }\n",
       "\n",
       "    .dataframe tbody tr th {\n",
       "        vertical-align: top;\n",
       "    }\n",
       "\n",
       "    .dataframe thead th {\n",
       "        text-align: right;\n",
       "    }\n",
       "</style>\n",
       "<table border=\"1\" class=\"dataframe\">\n",
       "  <thead>\n",
       "    <tr style=\"text-align: right;\">\n",
       "      <th></th>\n",
       "      <th>age</th>\n",
       "      <th>salary</th>\n",
       "      <th>balance</th>\n",
       "      <th>marital</th>\n",
       "      <th>jobedu</th>\n",
       "      <th>targeted</th>\n",
       "      <th>default</th>\n",
       "      <th>housing</th>\n",
       "      <th>loan</th>\n",
       "      <th>contact</th>\n",
       "      <th>day</th>\n",
       "      <th>month</th>\n",
       "      <th>duration</th>\n",
       "      <th>campaign</th>\n",
       "      <th>pdays</th>\n",
       "      <th>previous</th>\n",
       "      <th>poutcome</th>\n",
       "      <th>response</th>\n",
       "      <th>job</th>\n",
       "      <th>education</th>\n",
       "    </tr>\n",
       "  </thead>\n",
       "  <tbody>\n",
       "    <tr>\n",
       "      <th>0</th>\n",
       "      <td>58.0</td>\n",
       "      <td>100000.0</td>\n",
       "      <td>2143</td>\n",
       "      <td>married</td>\n",
       "      <td>management,tertiary</td>\n",
       "      <td>yes</td>\n",
       "      <td>no</td>\n",
       "      <td>yes</td>\n",
       "      <td>no</td>\n",
       "      <td>unknown</td>\n",
       "      <td>5</td>\n",
       "      <td>may, 2017</td>\n",
       "      <td>261 sec</td>\n",
       "      <td>1</td>\n",
       "      <td>-1</td>\n",
       "      <td>0</td>\n",
       "      <td>unknown</td>\n",
       "      <td>no</td>\n",
       "      <td>management</td>\n",
       "      <td>tertiary</td>\n",
       "    </tr>\n",
       "    <tr>\n",
       "      <th>1</th>\n",
       "      <td>44.0</td>\n",
       "      <td>60000.0</td>\n",
       "      <td>29</td>\n",
       "      <td>single</td>\n",
       "      <td>technician,secondary</td>\n",
       "      <td>yes</td>\n",
       "      <td>no</td>\n",
       "      <td>yes</td>\n",
       "      <td>no</td>\n",
       "      <td>unknown</td>\n",
       "      <td>5</td>\n",
       "      <td>may, 2017</td>\n",
       "      <td>151 sec</td>\n",
       "      <td>1</td>\n",
       "      <td>-1</td>\n",
       "      <td>0</td>\n",
       "      <td>unknown</td>\n",
       "      <td>no</td>\n",
       "      <td>technician</td>\n",
       "      <td>secondary</td>\n",
       "    </tr>\n",
       "    <tr>\n",
       "      <th>2</th>\n",
       "      <td>33.0</td>\n",
       "      <td>120000.0</td>\n",
       "      <td>2</td>\n",
       "      <td>married</td>\n",
       "      <td>entrepreneur,secondary</td>\n",
       "      <td>yes</td>\n",
       "      <td>no</td>\n",
       "      <td>yes</td>\n",
       "      <td>yes</td>\n",
       "      <td>unknown</td>\n",
       "      <td>5</td>\n",
       "      <td>may, 2017</td>\n",
       "      <td>76 sec</td>\n",
       "      <td>1</td>\n",
       "      <td>-1</td>\n",
       "      <td>0</td>\n",
       "      <td>unknown</td>\n",
       "      <td>no</td>\n",
       "      <td>entrepreneur</td>\n",
       "      <td>secondary</td>\n",
       "    </tr>\n",
       "    <tr>\n",
       "      <th>3</th>\n",
       "      <td>47.0</td>\n",
       "      <td>20000.0</td>\n",
       "      <td>1506</td>\n",
       "      <td>married</td>\n",
       "      <td>blue-collar,unknown</td>\n",
       "      <td>no</td>\n",
       "      <td>no</td>\n",
       "      <td>yes</td>\n",
       "      <td>no</td>\n",
       "      <td>unknown</td>\n",
       "      <td>5</td>\n",
       "      <td>may, 2017</td>\n",
       "      <td>92 sec</td>\n",
       "      <td>1</td>\n",
       "      <td>-1</td>\n",
       "      <td>0</td>\n",
       "      <td>unknown</td>\n",
       "      <td>no</td>\n",
       "      <td>blue-collar</td>\n",
       "      <td>unknown</td>\n",
       "    </tr>\n",
       "    <tr>\n",
       "      <th>4</th>\n",
       "      <td>33.0</td>\n",
       "      <td>0.0</td>\n",
       "      <td>1</td>\n",
       "      <td>single</td>\n",
       "      <td>unknown,unknown</td>\n",
       "      <td>no</td>\n",
       "      <td>no</td>\n",
       "      <td>no</td>\n",
       "      <td>no</td>\n",
       "      <td>unknown</td>\n",
       "      <td>5</td>\n",
       "      <td>may, 2017</td>\n",
       "      <td>198 sec</td>\n",
       "      <td>1</td>\n",
       "      <td>-1</td>\n",
       "      <td>0</td>\n",
       "      <td>unknown</td>\n",
       "      <td>no</td>\n",
       "      <td>unknown</td>\n",
       "      <td>unknown</td>\n",
       "    </tr>\n",
       "  </tbody>\n",
       "</table>\n",
       "</div>"
      ],
      "text/plain": [
       "    age    salary  balance  marital                  jobedu targeted default  \\\n",
       "0  58.0  100000.0     2143  married     management,tertiary      yes      no   \n",
       "1  44.0   60000.0       29   single    technician,secondary      yes      no   \n",
       "2  33.0  120000.0        2  married  entrepreneur,secondary      yes      no   \n",
       "3  47.0   20000.0     1506  married     blue-collar,unknown       no      no   \n",
       "4  33.0       0.0        1   single         unknown,unknown       no      no   \n",
       "\n",
       "  housing loan  contact  day      month duration  campaign  pdays  previous  \\\n",
       "0     yes   no  unknown    5  may, 2017  261 sec         1     -1         0   \n",
       "1     yes   no  unknown    5  may, 2017  151 sec         1     -1         0   \n",
       "2     yes  yes  unknown    5  may, 2017   76 sec         1     -1         0   \n",
       "3     yes   no  unknown    5  may, 2017   92 sec         1     -1         0   \n",
       "4      no   no  unknown    5  may, 2017  198 sec         1     -1         0   \n",
       "\n",
       "  poutcome response           job  education  \n",
       "0  unknown       no    management   tertiary  \n",
       "1  unknown       no    technician  secondary  \n",
       "2  unknown       no  entrepreneur  secondary  \n",
       "3  unknown       no   blue-collar    unknown  \n",
       "4  unknown       no       unknown    unknown  "
      ]
     },
     "execution_count": 18,
     "metadata": {},
     "output_type": "execute_result"
    }
   ],
   "source": [
    "df.head()"
   ]
  },
  {
   "cell_type": "code",
   "execution_count": 19,
   "id": "f4fa7632",
   "metadata": {},
   "outputs": [],
   "source": [
    "# Fazemos o split da coluna jobedu e criamos a coluna job com o segundo elemento antes da virgula\n",
    "df['education'] = df['jobedu'].apply(lambda x:x.split(\",\")[1])"
   ]
  },
  {
   "cell_type": "code",
   "execution_count": 20,
   "id": "f92341aa",
   "metadata": {},
   "outputs": [
    {
     "data": {
      "text/html": [
       "<div>\n",
       "<style scoped>\n",
       "    .dataframe tbody tr th:only-of-type {\n",
       "        vertical-align: middle;\n",
       "    }\n",
       "\n",
       "    .dataframe tbody tr th {\n",
       "        vertical-align: top;\n",
       "    }\n",
       "\n",
       "    .dataframe thead th {\n",
       "        text-align: right;\n",
       "    }\n",
       "</style>\n",
       "<table border=\"1\" class=\"dataframe\">\n",
       "  <thead>\n",
       "    <tr style=\"text-align: right;\">\n",
       "      <th></th>\n",
       "      <th>age</th>\n",
       "      <th>salary</th>\n",
       "      <th>balance</th>\n",
       "      <th>marital</th>\n",
       "      <th>jobedu</th>\n",
       "      <th>targeted</th>\n",
       "      <th>default</th>\n",
       "      <th>housing</th>\n",
       "      <th>loan</th>\n",
       "      <th>contact</th>\n",
       "      <th>day</th>\n",
       "      <th>month</th>\n",
       "      <th>duration</th>\n",
       "      <th>campaign</th>\n",
       "      <th>pdays</th>\n",
       "      <th>previous</th>\n",
       "      <th>poutcome</th>\n",
       "      <th>response</th>\n",
       "      <th>job</th>\n",
       "      <th>education</th>\n",
       "    </tr>\n",
       "  </thead>\n",
       "  <tbody>\n",
       "    <tr>\n",
       "      <th>0</th>\n",
       "      <td>58.0</td>\n",
       "      <td>100000.0</td>\n",
       "      <td>2143</td>\n",
       "      <td>married</td>\n",
       "      <td>management,tertiary</td>\n",
       "      <td>yes</td>\n",
       "      <td>no</td>\n",
       "      <td>yes</td>\n",
       "      <td>no</td>\n",
       "      <td>unknown</td>\n",
       "      <td>5</td>\n",
       "      <td>may, 2017</td>\n",
       "      <td>261 sec</td>\n",
       "      <td>1</td>\n",
       "      <td>-1</td>\n",
       "      <td>0</td>\n",
       "      <td>unknown</td>\n",
       "      <td>no</td>\n",
       "      <td>management</td>\n",
       "      <td>tertiary</td>\n",
       "    </tr>\n",
       "    <tr>\n",
       "      <th>1</th>\n",
       "      <td>44.0</td>\n",
       "      <td>60000.0</td>\n",
       "      <td>29</td>\n",
       "      <td>single</td>\n",
       "      <td>technician,secondary</td>\n",
       "      <td>yes</td>\n",
       "      <td>no</td>\n",
       "      <td>yes</td>\n",
       "      <td>no</td>\n",
       "      <td>unknown</td>\n",
       "      <td>5</td>\n",
       "      <td>may, 2017</td>\n",
       "      <td>151 sec</td>\n",
       "      <td>1</td>\n",
       "      <td>-1</td>\n",
       "      <td>0</td>\n",
       "      <td>unknown</td>\n",
       "      <td>no</td>\n",
       "      <td>technician</td>\n",
       "      <td>secondary</td>\n",
       "    </tr>\n",
       "    <tr>\n",
       "      <th>2</th>\n",
       "      <td>33.0</td>\n",
       "      <td>120000.0</td>\n",
       "      <td>2</td>\n",
       "      <td>married</td>\n",
       "      <td>entrepreneur,secondary</td>\n",
       "      <td>yes</td>\n",
       "      <td>no</td>\n",
       "      <td>yes</td>\n",
       "      <td>yes</td>\n",
       "      <td>unknown</td>\n",
       "      <td>5</td>\n",
       "      <td>may, 2017</td>\n",
       "      <td>76 sec</td>\n",
       "      <td>1</td>\n",
       "      <td>-1</td>\n",
       "      <td>0</td>\n",
       "      <td>unknown</td>\n",
       "      <td>no</td>\n",
       "      <td>entrepreneur</td>\n",
       "      <td>secondary</td>\n",
       "    </tr>\n",
       "    <tr>\n",
       "      <th>3</th>\n",
       "      <td>47.0</td>\n",
       "      <td>20000.0</td>\n",
       "      <td>1506</td>\n",
       "      <td>married</td>\n",
       "      <td>blue-collar,unknown</td>\n",
       "      <td>no</td>\n",
       "      <td>no</td>\n",
       "      <td>yes</td>\n",
       "      <td>no</td>\n",
       "      <td>unknown</td>\n",
       "      <td>5</td>\n",
       "      <td>may, 2017</td>\n",
       "      <td>92 sec</td>\n",
       "      <td>1</td>\n",
       "      <td>-1</td>\n",
       "      <td>0</td>\n",
       "      <td>unknown</td>\n",
       "      <td>no</td>\n",
       "      <td>blue-collar</td>\n",
       "      <td>unknown</td>\n",
       "    </tr>\n",
       "    <tr>\n",
       "      <th>4</th>\n",
       "      <td>33.0</td>\n",
       "      <td>0.0</td>\n",
       "      <td>1</td>\n",
       "      <td>single</td>\n",
       "      <td>unknown,unknown</td>\n",
       "      <td>no</td>\n",
       "      <td>no</td>\n",
       "      <td>no</td>\n",
       "      <td>no</td>\n",
       "      <td>unknown</td>\n",
       "      <td>5</td>\n",
       "      <td>may, 2017</td>\n",
       "      <td>198 sec</td>\n",
       "      <td>1</td>\n",
       "      <td>-1</td>\n",
       "      <td>0</td>\n",
       "      <td>unknown</td>\n",
       "      <td>no</td>\n",
       "      <td>unknown</td>\n",
       "      <td>unknown</td>\n",
       "    </tr>\n",
       "  </tbody>\n",
       "</table>\n",
       "</div>"
      ],
      "text/plain": [
       "    age    salary  balance  marital                  jobedu targeted default  \\\n",
       "0  58.0  100000.0     2143  married     management,tertiary      yes      no   \n",
       "1  44.0   60000.0       29   single    technician,secondary      yes      no   \n",
       "2  33.0  120000.0        2  married  entrepreneur,secondary      yes      no   \n",
       "3  47.0   20000.0     1506  married     blue-collar,unknown       no      no   \n",
       "4  33.0       0.0        1   single         unknown,unknown       no      no   \n",
       "\n",
       "  housing loan  contact  day      month duration  campaign  pdays  previous  \\\n",
       "0     yes   no  unknown    5  may, 2017  261 sec         1     -1         0   \n",
       "1     yes   no  unknown    5  may, 2017  151 sec         1     -1         0   \n",
       "2     yes  yes  unknown    5  may, 2017   76 sec         1     -1         0   \n",
       "3     yes   no  unknown    5  may, 2017   92 sec         1     -1         0   \n",
       "4      no   no  unknown    5  may, 2017  198 sec         1     -1         0   \n",
       "\n",
       "  poutcome response           job  education  \n",
       "0  unknown       no    management   tertiary  \n",
       "1  unknown       no    technician  secondary  \n",
       "2  unknown       no  entrepreneur  secondary  \n",
       "3  unknown       no   blue-collar    unknown  \n",
       "4  unknown       no       unknown    unknown  "
      ]
     },
     "execution_count": 20,
     "metadata": {},
     "output_type": "execute_result"
    }
   ],
   "source": [
    "df.head()"
   ]
  },
  {
   "cell_type": "code",
   "execution_count": 21,
   "id": "6c5e3128",
   "metadata": {},
   "outputs": [],
   "source": [
    "# Drop de coluna \"jobedu\"\n",
    "df.drop([\"jobedu\"], axis = 1, inplace= True)"
   ]
  },
  {
   "cell_type": "code",
   "execution_count": 22,
   "id": "61ff15b3",
   "metadata": {},
   "outputs": [
    {
     "data": {
      "text/html": [
       "<div>\n",
       "<style scoped>\n",
       "    .dataframe tbody tr th:only-of-type {\n",
       "        vertical-align: middle;\n",
       "    }\n",
       "\n",
       "    .dataframe tbody tr th {\n",
       "        vertical-align: top;\n",
       "    }\n",
       "\n",
       "    .dataframe thead th {\n",
       "        text-align: right;\n",
       "    }\n",
       "</style>\n",
       "<table border=\"1\" class=\"dataframe\">\n",
       "  <thead>\n",
       "    <tr style=\"text-align: right;\">\n",
       "      <th></th>\n",
       "      <th>age</th>\n",
       "      <th>salary</th>\n",
       "      <th>balance</th>\n",
       "      <th>marital</th>\n",
       "      <th>targeted</th>\n",
       "      <th>default</th>\n",
       "      <th>housing</th>\n",
       "      <th>loan</th>\n",
       "      <th>contact</th>\n",
       "      <th>day</th>\n",
       "      <th>month</th>\n",
       "      <th>duration</th>\n",
       "      <th>campaign</th>\n",
       "      <th>pdays</th>\n",
       "      <th>previous</th>\n",
       "      <th>poutcome</th>\n",
       "      <th>response</th>\n",
       "      <th>job</th>\n",
       "      <th>education</th>\n",
       "    </tr>\n",
       "  </thead>\n",
       "  <tbody>\n",
       "    <tr>\n",
       "      <th>0</th>\n",
       "      <td>58.0</td>\n",
       "      <td>100000.0</td>\n",
       "      <td>2143</td>\n",
       "      <td>married</td>\n",
       "      <td>yes</td>\n",
       "      <td>no</td>\n",
       "      <td>yes</td>\n",
       "      <td>no</td>\n",
       "      <td>unknown</td>\n",
       "      <td>5</td>\n",
       "      <td>may, 2017</td>\n",
       "      <td>261 sec</td>\n",
       "      <td>1</td>\n",
       "      <td>-1</td>\n",
       "      <td>0</td>\n",
       "      <td>unknown</td>\n",
       "      <td>no</td>\n",
       "      <td>management</td>\n",
       "      <td>tertiary</td>\n",
       "    </tr>\n",
       "    <tr>\n",
       "      <th>1</th>\n",
       "      <td>44.0</td>\n",
       "      <td>60000.0</td>\n",
       "      <td>29</td>\n",
       "      <td>single</td>\n",
       "      <td>yes</td>\n",
       "      <td>no</td>\n",
       "      <td>yes</td>\n",
       "      <td>no</td>\n",
       "      <td>unknown</td>\n",
       "      <td>5</td>\n",
       "      <td>may, 2017</td>\n",
       "      <td>151 sec</td>\n",
       "      <td>1</td>\n",
       "      <td>-1</td>\n",
       "      <td>0</td>\n",
       "      <td>unknown</td>\n",
       "      <td>no</td>\n",
       "      <td>technician</td>\n",
       "      <td>secondary</td>\n",
       "    </tr>\n",
       "    <tr>\n",
       "      <th>2</th>\n",
       "      <td>33.0</td>\n",
       "      <td>120000.0</td>\n",
       "      <td>2</td>\n",
       "      <td>married</td>\n",
       "      <td>yes</td>\n",
       "      <td>no</td>\n",
       "      <td>yes</td>\n",
       "      <td>yes</td>\n",
       "      <td>unknown</td>\n",
       "      <td>5</td>\n",
       "      <td>may, 2017</td>\n",
       "      <td>76 sec</td>\n",
       "      <td>1</td>\n",
       "      <td>-1</td>\n",
       "      <td>0</td>\n",
       "      <td>unknown</td>\n",
       "      <td>no</td>\n",
       "      <td>entrepreneur</td>\n",
       "      <td>secondary</td>\n",
       "    </tr>\n",
       "    <tr>\n",
       "      <th>3</th>\n",
       "      <td>47.0</td>\n",
       "      <td>20000.0</td>\n",
       "      <td>1506</td>\n",
       "      <td>married</td>\n",
       "      <td>no</td>\n",
       "      <td>no</td>\n",
       "      <td>yes</td>\n",
       "      <td>no</td>\n",
       "      <td>unknown</td>\n",
       "      <td>5</td>\n",
       "      <td>may, 2017</td>\n",
       "      <td>92 sec</td>\n",
       "      <td>1</td>\n",
       "      <td>-1</td>\n",
       "      <td>0</td>\n",
       "      <td>unknown</td>\n",
       "      <td>no</td>\n",
       "      <td>blue-collar</td>\n",
       "      <td>unknown</td>\n",
       "    </tr>\n",
       "    <tr>\n",
       "      <th>4</th>\n",
       "      <td>33.0</td>\n",
       "      <td>0.0</td>\n",
       "      <td>1</td>\n",
       "      <td>single</td>\n",
       "      <td>no</td>\n",
       "      <td>no</td>\n",
       "      <td>no</td>\n",
       "      <td>no</td>\n",
       "      <td>unknown</td>\n",
       "      <td>5</td>\n",
       "      <td>may, 2017</td>\n",
       "      <td>198 sec</td>\n",
       "      <td>1</td>\n",
       "      <td>-1</td>\n",
       "      <td>0</td>\n",
       "      <td>unknown</td>\n",
       "      <td>no</td>\n",
       "      <td>unknown</td>\n",
       "      <td>unknown</td>\n",
       "    </tr>\n",
       "  </tbody>\n",
       "</table>\n",
       "</div>"
      ],
      "text/plain": [
       "    age    salary  balance  marital targeted default housing loan  contact  \\\n",
       "0  58.0  100000.0     2143  married      yes      no     yes   no  unknown   \n",
       "1  44.0   60000.0       29   single      yes      no     yes   no  unknown   \n",
       "2  33.0  120000.0        2  married      yes      no     yes  yes  unknown   \n",
       "3  47.0   20000.0     1506  married       no      no     yes   no  unknown   \n",
       "4  33.0       0.0        1   single       no      no      no   no  unknown   \n",
       "\n",
       "   day      month duration  campaign  pdays  previous poutcome response  \\\n",
       "0    5  may, 2017  261 sec         1     -1         0  unknown       no   \n",
       "1    5  may, 2017  151 sec         1     -1         0  unknown       no   \n",
       "2    5  may, 2017   76 sec         1     -1         0  unknown       no   \n",
       "3    5  may, 2017   92 sec         1     -1         0  unknown       no   \n",
       "4    5  may, 2017  198 sec         1     -1         0  unknown       no   \n",
       "\n",
       "            job  education  \n",
       "0    management   tertiary  \n",
       "1    technician  secondary  \n",
       "2  entrepreneur  secondary  \n",
       "3   blue-collar    unknown  \n",
       "4       unknown    unknown  "
      ]
     },
     "execution_count": 22,
     "metadata": {},
     "output_type": "execute_result"
    }
   ],
   "source": [
    "df.head()"
   ]
  },
  {
   "cell_type": "markdown",
   "id": "e3dc5f38",
   "metadata": {},
   "source": [
    "## Tratamento de Valores Ausentes"
   ]
  },
  {
   "cell_type": "markdown",
   "id": "02b306c5",
   "metadata": {},
   "source": [
    "> Vamos primeiro tratar a variável que representa a idade."
   ]
  },
  {
   "cell_type": "code",
   "execution_count": 23,
   "id": "b03d07ae",
   "metadata": {},
   "outputs": [
    {
     "data": {
      "text/plain": [
       "age           True\n",
       "salary        True\n",
       "balance      False\n",
       "marital      False\n",
       "targeted     False\n",
       "default      False\n",
       "housing      False\n",
       "loan         False\n",
       "contact      False\n",
       "day          False\n",
       "month         True\n",
       "duration     False\n",
       "campaign     False\n",
       "pdays        False\n",
       "previous     False\n",
       "poutcome     False\n",
       "response      True\n",
       "job          False\n",
       "education    False\n",
       "dtype: bool"
      ]
     },
     "execution_count": 23,
     "metadata": {},
     "output_type": "execute_result"
    }
   ],
   "source": [
    "# Valores ausentes no dataframe\n",
    "df.isna().any()"
   ]
  },
  {
   "cell_type": "code",
   "execution_count": 24,
   "id": "94227646",
   "metadata": {},
   "outputs": [
    {
     "data": {
      "text/plain": [
       "np.int64(20)"
      ]
     },
     "execution_count": 24,
     "metadata": {},
     "output_type": "execute_result"
    }
   ],
   "source": [
    "# Valores ausentes da variável age\n",
    "df.age.isnull().sum()"
   ]
  },
  {
   "cell_type": "code",
   "execution_count": 25,
   "id": "0ce35d4e",
   "metadata": {},
   "outputs": [
    {
     "data": {
      "text/plain": [
       "np.float64(0.0442370219636814)"
      ]
     },
     "execution_count": 25,
     "metadata": {},
     "output_type": "execute_result"
    }
   ],
   "source": [
    "# Calcula o percentual de valores ausentes na variável age\n",
    "df.age.isnull().mean()*100"
   ]
  },
  {
   "cell_type": "markdown",
   "id": "3732c2cf",
   "metadata": {},
   "source": [
    "Como o percentual é baixo não podemos eliminar a coluna. Podemos então eliminar os registros com valores ausentes (nesse caso perderíamos 20 linhas no dataset) ou podemos aplicar imputação. Vamos usar a segunda opção."
   ]
  },
  {
   "cell_type": "code",
   "execution_count": 26,
   "id": "9f788942",
   "metadata": {},
   "outputs": [
    {
     "data": {
      "image/png": "[encoded data removed]",
      "text/plain": [
       "<Figure size 640x480 with 1 Axes>"
      ]
     },
     "metadata": {},
     "output_type": "display_data"
    }
   ],
   "source": [
    "# Histograma\n",
    "df.age.plot(kind = \"hist\")\n",
    "plt.title(\"Histograma da Variavel Idade\\n\")\n",
    "plt.show()"
   ]
  },
  {
   "cell_type": "code",
   "execution_count": 27,
   "id": "e0f089fc",
   "metadata": {},
   "outputs": [
    {
     "data": {
      "image/png": "[encoded data removed]",
      "text/plain": [
       "<Figure size 640x480 with 1 Axes>"
      ]
     },
     "metadata": {},
     "output_type": "display_data"
    }
   ],
   "source": [
    "# Boxplot\n",
    "sns.boxplot(df.age)\n",
    "plt.title(\"Boxplot da Variavel Idade\\n\")\n",
    "plt.show()"
   ]
  },
  {
   "cell_type": "code",
   "execution_count": 28,
   "id": "d09b4f6f",
   "metadata": {},
   "outputs": [
    {
     "data": {
      "text/plain": [
       "np.float64(40.93565090394105)"
      ]
     },
     "execution_count": 28,
     "metadata": {},
     "output_type": "execute_result"
    }
   ],
   "source": [
    "# Vamos verificar qual é a média de idade.\n",
    "df.age.mean()"
   ]
  },
  {
   "cell_type": "code",
   "execution_count": 29,
   "id": "301df8ff",
   "metadata": {},
   "outputs": [
    {
     "data": {
      "text/plain": [
       "np.float64(39.0)"
      ]
     },
     "execution_count": 29,
     "metadata": {},
     "output_type": "execute_result"
    }
   ],
   "source": [
    "# Vamos verificar qual é a mediana, valor do meio da distribuição quando os dados estão ordenados.\n",
    "df.age.median()"
   ]
  },
  {
   "cell_type": "code",
   "execution_count": 30,
   "id": "9fdf9b7f",
   "metadata": {},
   "outputs": [
    {
     "data": {
      "text/plain": [
       "0    32.0\n",
       "Name: age, dtype: float64"
      ]
     },
     "execution_count": 30,
     "metadata": {},
     "output_type": "execute_result"
    }
   ],
   "source": [
    "# Vamos verificar qual é a moda, o valor que aparece com mais frequência.\n",
    "df.age.mode()"
   ]
  },
  {
   "cell_type": "markdown",
   "id": "7a139d95",
   "metadata": {},
   "source": [
    "> Exercício 2: Vamos imputar os valores ausentes da variável age com uma medida de tendência central. Escolha uma das medidas, aplique a imputação e justifique sua escolha. Deixamos a variável como float ou como int? Se convertemos, fazemos isso antes ou depois da imputação?"
   ]
  },
  {
   "cell_type": "code",
   "execution_count": null,
   "id": "6873ba17",
   "metadata": {},
   "outputs": [],
   "source": [
    "# Imputando valores seguindo o metodo moda pois sao poucos valores ausentes e assim alteramos muito pouco o padrao nos dados\n",
    "df.age.fillna(\"32\", inplace= True) #32 e o valor da moda, e inplace e para salvar no proprio dataframe"
   ]
  },
  {
   "cell_type": "code",
   "execution_count": 42,
   "id": "2cce791e",
   "metadata": {},
   "outputs": [],
   "source": [
    "# Convertendo para INT\n",
    "df.age = df.age.astype(\"int\")"
   ]
  },
  {
   "cell_type": "code",
   "execution_count": null,
   "id": "56e320d7",
   "metadata": {},
   "outputs": [
    {
     "data": {
      "text/plain": [
       "np.float64(0.0)"
      ]
     },
     "execution_count": 45,
     "metadata": {},
     "output_type": "execute_result"
    }
   ],
   "source": [
    "# Calculando novamente o percentual de valores ausentes\n",
    "df.age.isnull().mean()*100"
   ]
  },
  {
   "cell_type": "markdown",
   "id": "db5c7b5d",
   "metadata": {},
   "source": [
    "> Vamos agora tratar a variável que representa o mês."
   ]
  },
  {
   "cell_type": "code",
   "execution_count": 4,
   "id": "ba9c94b8",
   "metadata": {},
   "outputs": [
    {
     "data": {
      "text/plain": [
       "np.int64(50)"
      ]
     },
     "execution_count": 4,
     "metadata": {},
     "output_type": "execute_result"
    }
   ],
   "source": [
    "# Valores ausentes na variável\n",
    "df.month.isnull().sum()"
   ]
  },
  {
   "cell_type": "code",
   "execution_count": 5,
   "id": "e736a35a",
   "metadata": {},
   "outputs": [
    {
     "data": {
      "text/plain": [
       "np.float64(0.11059255490920351)"
      ]
     },
     "execution_count": 5,
     "metadata": {},
     "output_type": "execute_result"
    }
   ],
   "source": [
    "# Percentual de valores ausentes\n",
    "df.month.isnull().mean()*100"
   ]
  },
  {
   "cell_type": "markdown",
   "id": "cd87548e",
   "metadata": {},
   "source": [
    "Como o percentual é menor que 30% não podemos eliminar a coluna. Podemos então eliminar os registros com valores ausentes (nesse caso perderíamos 50 linhas no dataset) ou podemos aplicar imputação. Vamos usar a segunda opção."
   ]
  },
  {
   "cell_type": "code",
   "execution_count": 6,
   "id": "e204bff5",
   "metadata": {},
   "outputs": [
    {
     "data": {
      "text/plain": [
       "dtype('O')"
      ]
     },
     "execution_count": 6,
     "metadata": {},
     "output_type": "execute_result"
    }
   ],
   "source": [
    "# Tipo da variavel\n",
    "df.month.dtypes"
   ]
  },
  {
   "cell_type": "code",
   "execution_count": 7,
   "id": "8a03b685",
   "metadata": {},
   "outputs": [
    {
     "data": {
      "text/plain": [
       "month\n",
       "may, 2017    13747\n",
       "jul, 2017     6888\n",
       "aug, 2017     6240\n",
       "jun, 2017     5335\n",
       "nov, 2017     3968\n",
       "apr, 2017     2931\n",
       "feb, 2017     2646\n",
       "jan, 2017     1402\n",
       "oct, 2017      738\n",
       "sep, 2017      576\n",
       "mar, 2017      476\n",
       "dec, 2017      214\n",
       "Name: count, dtype: int64"
      ]
     },
     "execution_count": 7,
     "metadata": {},
     "output_type": "execute_result"
    }
   ],
   "source": [
    "# Categorias da variavel\n",
    "df.month.value_counts()"
   ]
  },
  {
   "cell_type": "markdown",
   "id": "ad077ba3",
   "metadata": {},
   "source": [
    "> Exercício 3: Vamos imputar os valores ausentes da variável month. Escolha uma estratégia e aplique no dataset."
   ]
  },
  {
   "cell_type": "code",
   "execution_count": 8,
   "id": "f4c193a4",
   "metadata": {},
   "outputs": [
    {
     "data": {
      "text/plain": [
       "0    may, 2017\n",
       "Name: month, dtype: object"
      ]
     },
     "execution_count": 8,
     "metadata": {},
     "output_type": "execute_result"
    }
   ],
   "source": [
    "# Vamos imputar com a moda, o valor mais frequente da variavel, pois sao poucos registros\n",
    "df.month.mode()"
   ]
  },
  {
   "cell_type": "code",
   "execution_count": 9,
   "id": "d2ad0e3f",
   "metadata": {},
   "outputs": [],
   "source": [
    "# Imputacao com a moda\n",
    "df.month.fillna(\"may, 2017\", inplace= True)"
   ]
  },
  {
   "cell_type": "code",
   "execution_count": 10,
   "id": "7666026a",
   "metadata": {},
   "outputs": [
    {
     "data": {
      "text/plain": [
       "np.int64(0)"
      ]
     },
     "execution_count": 10,
     "metadata": {},
     "output_type": "execute_result"
    }
   ],
   "source": [
    "# Valores ausentes tratados com sucesso\n",
    "df.month.isnull().sum()"
   ]
  },
  {
   "cell_type": "markdown",
   "id": "1bebbe02",
   "metadata": {},
   "source": [
    "> Vamos agora tratar a variável que representa o salário."
   ]
  },
  {
   "cell_type": "code",
   "execution_count": 11,
   "id": "511ed08f",
   "metadata": {},
   "outputs": [
    {
     "data": {
      "text/plain": [
       "np.int64(26)"
      ]
     },
     "execution_count": 11,
     "metadata": {},
     "output_type": "execute_result"
    }
   ],
   "source": [
    "# Valores ausentes na variavel\n",
    "df.salary.isnull().sum()"
   ]
  },
  {
   "cell_type": "code",
   "execution_count": 12,
   "id": "df60f698",
   "metadata": {},
   "outputs": [
    {
     "data": {
      "text/plain": [
       "np.float64(0.05750812855278583)"
      ]
     },
     "execution_count": 12,
     "metadata": {},
     "output_type": "execute_result"
    }
   ],
   "source": [
    "# Calcula o percentual de valores ausentes na variavel salary\n",
    "df.salary.isnull().mean()*100"
   ]
  },
  {
   "cell_type": "markdown",
   "id": "4ddf0edd",
   "metadata": {},
   "source": [
    "Como o percentual é baixo não podemos eliminar a coluna. Podemos então eliminar os registros com valores ausentes (nesse caso perderíamos 26 linhas no dataset) ou podemos aplicar imputação. Vamos usar a segunda opção.\n",
    "\n",
    "Mas espere. Vamos checar algo aqui."
   ]
  },
  {
   "cell_type": "code",
   "execution_count": 15,
   "id": "1ee74ea9",
   "metadata": {},
   "outputs": [
    {
     "name": "stdout",
     "output_type": "stream",
     "text": [
      "       customerid   age    salary  balance   marital                  jobedu  \\\n",
      "0               1  58.0  100000.0     2143   married     management,tertiary   \n",
      "1               2  44.0   60000.0       29    single    technician,secondary   \n",
      "2               3  33.0  120000.0        2   married  entrepreneur,secondary   \n",
      "3               4  47.0   20000.0     1506   married     blue-collar,unknown   \n",
      "4               5  33.0       0.0        1    single         unknown,unknown   \n",
      "...           ...   ...       ...      ...       ...                     ...   \n",
      "45206       45207  51.0   60000.0      825   married     technician,tertiary   \n",
      "45207       45208  71.0   55000.0     1729  divorced         retired,primary   \n",
      "45208       45209  72.0   55000.0     5715   married       retired,secondary   \n",
      "45209       45210  57.0   20000.0      668   married   blue-collar,secondary   \n",
      "45210       45211  37.0  120000.0     2971   married  entrepreneur,secondary   \n",
      "\n",
      "      targeted default housing loan    contact  day      month  \\\n",
      "0          yes      no     yes   no    unknown    5  may, 2017   \n",
      "1          yes      no     yes   no    unknown    5  may, 2017   \n",
      "2          yes      no     yes  yes    unknown    5  may, 2017   \n",
      "3           no      no     yes   no    unknown    5  may, 2017   \n",
      "4           no      no      no   no    unknown    5  may, 2017   \n",
      "...        ...     ...     ...  ...        ...  ...        ...   \n",
      "45206      yes      no      no   no   cellular   17  nov, 2017   \n",
      "45207      yes      no      no   no   cellular   17  nov, 2017   \n",
      "45208      yes      no      no   no   cellular   17  nov, 2017   \n",
      "45209      yes      no      no   no  telephone   17  nov, 2017   \n",
      "45210      yes      no      no   no   cellular   17  nov, 2017   \n",
      "\n",
      "                   duration  campaign  pdays  previous poutcome response  \n",
      "0                   261 sec         1     -1         0  unknown       no  \n",
      "1                   151 sec         1     -1         0  unknown       no  \n",
      "2                    76 sec         1     -1         0  unknown       no  \n",
      "3                    92 sec         1     -1         0  unknown       no  \n",
      "4                   198 sec         1     -1         0  unknown       no  \n",
      "...                     ...       ...    ...       ...      ...      ...  \n",
      "45206  16.2833333333333 min         3     -1         0  unknown      yes  \n",
      "45207               7.6 min         2     -1         0  unknown      yes  \n",
      "45208  18.7833333333333 min         5    184         3  success      yes  \n",
      "45209  8.46666666666667 min         4     -1         0  unknown       no  \n",
      "45210  6.01666666666667 min         2    188        11    other       no  \n",
      "\n",
      "[45211 rows x 19 columns]\n"
     ]
    }
   ],
   "source": [
    "print(df)"
   ]
  },
  {
   "cell_type": "markdown",
   "id": "3d118b88",
   "metadata": {},
   "source": [
    "Existe salário igual a zero? Não. O valor zero é provavelmente um valor ausente (confirmar com a área de negócio)."
   ]
  },
  {
   "cell_type": "code",
   "execution_count": 16,
   "id": "49b45399",
   "metadata": {},
   "outputs": [
    {
     "data": {
      "image/png": "[encoded data removed]",
      "text/plain": [
       "<Figure size 640x480 with 1 Axes>"
      ]
     },
     "metadata": {},
     "output_type": "display_data"
    }
   ],
   "source": [
    "# Histograma\n",
    "df.salary.plot(kind = \"hist\")\n",
    "plt.title(\"Histograma da Variável Salário\\n\")\n",
    "plt.show()"
   ]
  },
  {
   "cell_type": "code",
   "execution_count": 17,
   "id": "01876887",
   "metadata": {},
   "outputs": [
    {
     "data": {
      "image/png": "[encoded data removed]",
      "text/plain": [
       "<Figure size 640x480 with 1 Axes>"
      ]
     },
     "metadata": {},
     "output_type": "display_data"
    }
   ],
   "source": [
    "# Boxplot\n",
    "sns.boxplot(df.salary)\n",
    "plt.title(\"Boxplot da Variável Salário\\n\")\n",
    "plt.show()"
   ]
  },
  {
   "cell_type": "code",
   "execution_count": null,
   "id": "bbbc9ee4",
   "metadata": {},
   "outputs": [
    {
     "data": {
      "text/plain": [
       "np.float64(57008.65331415293)"
      ]
     },
     "execution_count": 18,
     "metadata": {},
     "output_type": "execute_result"
    }
   ],
   "source": [
    "# Vamos verificar qual é a média \n",
    "df.salary.mean()"
   ]
  },
  {
   "cell_type": "code",
   "execution_count": 19,
   "id": "e95e25d1",
   "metadata": {},
   "outputs": [
    {
     "data": {
      "text/plain": [
       "np.float64(60000.0)"
      ]
     },
     "execution_count": 19,
     "metadata": {},
     "output_type": "execute_result"
    }
   ],
   "source": [
    "# Vamos verificar qual a mediana\n",
    "df.salary.median()"
   ]
  },
  {
   "cell_type": "code",
   "execution_count": 20,
   "id": "bbd666c6",
   "metadata": {},
   "outputs": [
    {
     "data": {
      "text/plain": [
       "0    20000.0\n",
       "Name: salary, dtype: float64"
      ]
     },
     "execution_count": 20,
     "metadata": {},
     "output_type": "execute_result"
    }
   ],
   "source": [
    "# Vamos verificar qual a moda\n",
    "df.salary.mode()"
   ]
  },
  {
   "cell_type": "markdown",
   "id": "03558614",
   "metadata": {},
   "source": [
    "> Exercício 4: Vamos imputar os valores ausentes da variável salary com uma medida de tendência central. Precisamos também tratar os valores iguais a zero. Escolha sua estratégia, aplique a imputação e justifique sua escolha. "
   ]
  },
  {
   "cell_type": "code",
   "execution_count": 33,
   "id": "ae1016e9",
   "metadata": {},
   "outputs": [],
   "source": [
    "# Vamos preencher com a mediana pois os dados parecem assimetricos (nesse caso a media nao pode ser usada)\n",
    "# e o valor mais frequente esta muito abaixo da media e da mediana (por isso nao usaremos a moda)\n",
    "df.salary.fillna(\"6000\", inplace= True)"
   ]
  },
  {
   "cell_type": "code",
   "execution_count": 22,
   "id": "831fc748",
   "metadata": {},
   "outputs": [
    {
     "data": {
      "text/html": [
       "<div>\n",
       "<style scoped>\n",
       "    .dataframe tbody tr th:only-of-type {\n",
       "        vertical-align: middle;\n",
       "    }\n",
       "\n",
       "    .dataframe tbody tr th {\n",
       "        vertical-align: top;\n",
       "    }\n",
       "\n",
       "    .dataframe thead th {\n",
       "        text-align: right;\n",
       "    }\n",
       "</style>\n",
       "<table border=\"1\" class=\"dataframe\">\n",
       "  <thead>\n",
       "    <tr style=\"text-align: right;\">\n",
       "      <th></th>\n",
       "      <th>customerid</th>\n",
       "      <th>age</th>\n",
       "      <th>salary</th>\n",
       "      <th>balance</th>\n",
       "      <th>marital</th>\n",
       "      <th>jobedu</th>\n",
       "      <th>targeted</th>\n",
       "      <th>default</th>\n",
       "      <th>housing</th>\n",
       "      <th>loan</th>\n",
       "      <th>contact</th>\n",
       "      <th>day</th>\n",
       "      <th>month</th>\n",
       "      <th>duration</th>\n",
       "      <th>campaign</th>\n",
       "      <th>pdays</th>\n",
       "      <th>previous</th>\n",
       "      <th>poutcome</th>\n",
       "      <th>response</th>\n",
       "    </tr>\n",
       "  </thead>\n",
       "  <tbody>\n",
       "    <tr>\n",
       "      <th>0</th>\n",
       "      <td>1</td>\n",
       "      <td>58.0</td>\n",
       "      <td>100000.0</td>\n",
       "      <td>2143</td>\n",
       "      <td>married</td>\n",
       "      <td>management,tertiary</td>\n",
       "      <td>yes</td>\n",
       "      <td>no</td>\n",
       "      <td>yes</td>\n",
       "      <td>no</td>\n",
       "      <td>unknown</td>\n",
       "      <td>5</td>\n",
       "      <td>may, 2017</td>\n",
       "      <td>261 sec</td>\n",
       "      <td>1</td>\n",
       "      <td>-1</td>\n",
       "      <td>0</td>\n",
       "      <td>unknown</td>\n",
       "      <td>no</td>\n",
       "    </tr>\n",
       "    <tr>\n",
       "      <th>1</th>\n",
       "      <td>2</td>\n",
       "      <td>44.0</td>\n",
       "      <td>60000.0</td>\n",
       "      <td>29</td>\n",
       "      <td>single</td>\n",
       "      <td>technician,secondary</td>\n",
       "      <td>yes</td>\n",
       "      <td>no</td>\n",
       "      <td>yes</td>\n",
       "      <td>no</td>\n",
       "      <td>unknown</td>\n",
       "      <td>5</td>\n",
       "      <td>may, 2017</td>\n",
       "      <td>151 sec</td>\n",
       "      <td>1</td>\n",
       "      <td>-1</td>\n",
       "      <td>0</td>\n",
       "      <td>unknown</td>\n",
       "      <td>no</td>\n",
       "    </tr>\n",
       "    <tr>\n",
       "      <th>2</th>\n",
       "      <td>3</td>\n",
       "      <td>33.0</td>\n",
       "      <td>120000.0</td>\n",
       "      <td>2</td>\n",
       "      <td>married</td>\n",
       "      <td>entrepreneur,secondary</td>\n",
       "      <td>yes</td>\n",
       "      <td>no</td>\n",
       "      <td>yes</td>\n",
       "      <td>yes</td>\n",
       "      <td>unknown</td>\n",
       "      <td>5</td>\n",
       "      <td>may, 2017</td>\n",
       "      <td>76 sec</td>\n",
       "      <td>1</td>\n",
       "      <td>-1</td>\n",
       "      <td>0</td>\n",
       "      <td>unknown</td>\n",
       "      <td>no</td>\n",
       "    </tr>\n",
       "    <tr>\n",
       "      <th>3</th>\n",
       "      <td>4</td>\n",
       "      <td>47.0</td>\n",
       "      <td>20000.0</td>\n",
       "      <td>1506</td>\n",
       "      <td>married</td>\n",
       "      <td>blue-collar,unknown</td>\n",
       "      <td>no</td>\n",
       "      <td>no</td>\n",
       "      <td>yes</td>\n",
       "      <td>no</td>\n",
       "      <td>unknown</td>\n",
       "      <td>5</td>\n",
       "      <td>may, 2017</td>\n",
       "      <td>92 sec</td>\n",
       "      <td>1</td>\n",
       "      <td>-1</td>\n",
       "      <td>0</td>\n",
       "      <td>unknown</td>\n",
       "      <td>no</td>\n",
       "    </tr>\n",
       "    <tr>\n",
       "      <th>4</th>\n",
       "      <td>5</td>\n",
       "      <td>33.0</td>\n",
       "      <td>0.0</td>\n",
       "      <td>1</td>\n",
       "      <td>single</td>\n",
       "      <td>unknown,unknown</td>\n",
       "      <td>no</td>\n",
       "      <td>no</td>\n",
       "      <td>no</td>\n",
       "      <td>no</td>\n",
       "      <td>unknown</td>\n",
       "      <td>5</td>\n",
       "      <td>may, 2017</td>\n",
       "      <td>198 sec</td>\n",
       "      <td>1</td>\n",
       "      <td>-1</td>\n",
       "      <td>0</td>\n",
       "      <td>unknown</td>\n",
       "      <td>no</td>\n",
       "    </tr>\n",
       "  </tbody>\n",
       "</table>\n",
       "</div>"
      ],
      "text/plain": [
       "   customerid   age    salary  balance  marital                  jobedu  \\\n",
       "0           1  58.0  100000.0     2143  married     management,tertiary   \n",
       "1           2  44.0   60000.0       29   single    technician,secondary   \n",
       "2           3  33.0  120000.0        2  married  entrepreneur,secondary   \n",
       "3           4  47.0   20000.0     1506  married     blue-collar,unknown   \n",
       "4           5  33.0       0.0        1   single         unknown,unknown   \n",
       "\n",
       "  targeted default housing loan  contact  day      month duration  campaign  \\\n",
       "0      yes      no     yes   no  unknown    5  may, 2017  261 sec         1   \n",
       "1      yes      no     yes   no  unknown    5  may, 2017  151 sec         1   \n",
       "2      yes      no     yes  yes  unknown    5  may, 2017   76 sec         1   \n",
       "3       no      no     yes   no  unknown    5  may, 2017   92 sec         1   \n",
       "4       no      no      no   no  unknown    5  may, 2017  198 sec         1   \n",
       "\n",
       "   pdays  previous poutcome response  \n",
       "0     -1         0  unknown       no  \n",
       "1     -1         0  unknown       no  \n",
       "2     -1         0  unknown       no  \n",
       "3     -1         0  unknown       no  \n",
       "4     -1         0  unknown       no  "
      ]
     },
     "execution_count": 22,
     "metadata": {},
     "output_type": "execute_result"
    }
   ],
   "source": [
    "df.head()"
   ]
  },
  {
   "cell_type": "code",
   "execution_count": 34,
   "id": "b8a93d1a",
   "metadata": {},
   "outputs": [],
   "source": [
    "# Convertemos para o tipo float\n",
    "df.salary = df.salary.astype(\"float\")"
   ]
  },
  {
   "cell_type": "code",
   "execution_count": 35,
   "id": "2820f6ff",
   "metadata": {},
   "outputs": [
    {
     "data": {
      "image/png": "[encoded data removed]",
      "text/plain": [
       "<Figure size 640x480 with 1 Axes>"
      ]
     },
     "metadata": {},
     "output_type": "display_data"
    }
   ],
   "source": [
    "# Histograma\n",
    "df.salary.plot(kind= \"hist\")\n",
    "plt.title(\"Histograma da Variavel Salario\\n\")\n",
    "plt.show()"
   ]
  },
  {
   "cell_type": "code",
   "execution_count": 37,
   "id": "d6c11912",
   "metadata": {},
   "outputs": [
    {
     "data": {
      "text/plain": [
       "salary\n",
       "20000.0     9725\n",
       "100000.0    9454\n",
       "60000.0     9169\n",
       "50000.0     5167\n",
       "70000.0     4153\n",
       "55000.0     2264\n",
       "120000.0    1486\n",
       "8000.0      1303\n",
       "16000.0     1239\n",
       "4000.0       937\n",
       "0.0          288\n",
       "6000.0        26\n",
       "Name: count, dtype: int64"
      ]
     },
     "execution_count": 37,
     "metadata": {},
     "output_type": "execute_result"
    }
   ],
   "source": [
    "# Registro para cada salario\n",
    "df.salary.value_counts()"
   ]
  },
  {
   "cell_type": "code",
   "execution_count": 38,
   "id": "92c46c82",
   "metadata": {},
   "outputs": [],
   "source": [
    "# Replace do zero pela mediana\n",
    "df['salary'] = df['salary'].replace(0, df['salary'].median())"
   ]
  },
  {
   "cell_type": "code",
   "execution_count": 39,
   "id": "136fb5d6",
   "metadata": {},
   "outputs": [
    {
     "data": {
      "text/plain": [
       "salary\n",
       "20000.0     9725\n",
       "60000.0     9457\n",
       "100000.0    9454\n",
       "50000.0     5167\n",
       "70000.0     4153\n",
       "55000.0     2264\n",
       "120000.0    1486\n",
       "8000.0      1303\n",
       "16000.0     1239\n",
       "4000.0       937\n",
       "6000.0        26\n",
       "Name: count, dtype: int64"
      ]
     },
     "execution_count": 39,
     "metadata": {},
     "output_type": "execute_result"
    }
   ],
   "source": [
    "# Registros para cada salario\n",
    "df.salary.value_counts()"
   ]
  },
  {
   "cell_type": "code",
   "execution_count": 40,
   "id": "98458955",
   "metadata": {},
   "outputs": [
    {
     "data": {
      "text/plain": [
       "np.float64(0.0)"
      ]
     },
     "execution_count": 40,
     "metadata": {},
     "output_type": "execute_result"
    }
   ],
   "source": [
    "# Calcula o percentual de valores ausentes na variavel salary\n",
    "df.salary.isnull().mean()*100"
   ]
  },
  {
   "cell_type": "markdown",
   "id": "43cd01ea",
   "metadata": {},
   "source": [
    "> Vamos agora tratar a variável que representa a resposta (variável alvo)."
   ]
  }
 ],
 "metadata": {
  "kernelspec": {
   "display_name": "Python 3",
   "language": "python",
   "name": "python3"
  },
  "language_info": {
   "codemirror_mode": {
    "name": "ipython",
    "version": 3
   },
   "file_extension": ".py",
   "mimetype": "text/x-python",
   "name": "python",
   "nbconvert_exporter": "python",
   "pygments_lexer": "ipython3",
   "version": "3.13.9"
  }
 },
 "nbformat": 4,
 "nbformat_minor": 5
}
